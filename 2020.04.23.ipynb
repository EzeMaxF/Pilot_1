{
 "cells": [
  {
   "cell_type": "code",
   "execution_count": 1,
   "metadata": {},
   "outputs": [
    {
     "name": "stdout",
     "output_type": "stream",
     "text": [
      "Hello world\n"
     ]
    }
   ],
   "source": [
    "print('Hello world')"
   ]
  },
  {
   "cell_type": "code",
   "execution_count": 23,
   "metadata": {},
   "outputs": [
    {
     "name": "stdout",
     "output_type": "stream",
     "text": [
      "var_1 more than var_2\n"
     ]
    }
   ],
   "source": [
    "var_1 = 10\n",
    "var_2 = -10\n",
    "\n",
    "if var_1 == var_2:\n",
    "    print(\"var_1 equal var_2\")\n",
    "elif var_1 < var_2:\n",
    "    print(\"var_1 less than var_2\")\n",
    "else:\n",
    "    print(\"var_1 more than var_2\")"
   ]
  },
  {
   "cell_type": "code",
   "execution_count": 4,
   "metadata": {},
   "outputs": [
    {
     "name": "stdout",
     "output_type": "stream",
     "text": [
      "Its too big\n"
     ]
    }
   ],
   "source": [
    "if var>3: print('Its too big')"
   ]
  },
  {
   "cell_type": "code",
   "execution_count": 5,
   "metadata": {},
   "outputs": [
    {
     "name": "stdout",
     "output_type": "stream",
     "text": [
      "null_variable is None\n",
      "not_null_variable is not None\n"
     ]
    }
   ],
   "source": [
    "null_variable = None\n",
    "not_null_variable = 'something'\n",
    "\n",
    "if null_variable == None:\n",
    "    print('null_variable is None')\n",
    "else:\n",
    "    print('null_variable is not None')\n",
    "\n",
    "if not_null_variable == None:\n",
    "    print('not_null_variable is None')\n",
    "else:\n",
    "    print('not_null_variable is not None')"
   ]
  },
  {
   "cell_type": "code",
   "execution_count": null,
   "metadata": {},
   "outputs": [],
   "source": [
    "type(None)\n",
    "type(True)\n",
    "type(False)\n",
    "type(1)\n",
    "type(5.3)\n",
    "type(5 + 4j)\n",
    "type([1, 5.3, False, 4])\n",
    "type((1, True, 3, 5+4j))\n",
    "type(range(5))\n",
    "type('Hello')\n",
    "type(b'a')\n",
    "type(bytearray([1,2,3]))\n",
    "type(memoryview(bytearray('XYZ', 'utf-8')))\n",
    "type(frozenset({1, 2, 3}))\n",
    "type({'a' : 32})"
   ]
  },
  {
   "cell_type": "code",
   "execution_count": 21,
   "metadata": {},
   "outputs": [
    {
     "data": {
      "text/plain": [
       "True"
      ]
     },
     "execution_count": 21,
     "metadata": {},
     "output_type": "execute_result"
    }
   ],
   "source": [
    "a = True\n",
    "b = False\n",
    "(a and b) or not (a and b)"
   ]
  },
  {
   "cell_type": "code",
   "execution_count": 22,
   "metadata": {},
   "outputs": [
    {
     "data": {
      "text/plain": [
       "4"
      ]
     },
     "execution_count": 22,
     "metadata": {},
     "output_type": "execute_result"
    }
   ],
   "source": [
    "1<<2"
   ]
  },
  {
   "cell_type": "code",
   "execution_count": 27,
   "metadata": {},
   "outputs": [
    {
     "name": "stdout",
     "output_type": "stream",
     "text": [
      "1\n",
      "2\n",
      "Second number is bigger\n"
     ]
    }
   ],
   "source": [
    "var = input()\n",
    "var1 = input()\n",
    "\n",
    "if var>var1:\n",
    "    print('First number is bigger')\n",
    "elif var<var1:\n",
    "    print('Second number is bigger')\n",
    "else:\n",
    "    print('You have entered equals numbers')"
   ]
  },
  {
   "cell_type": "code",
   "execution_count": 31,
   "metadata": {},
   "outputs": [
    {
     "name": "stdout",
     "output_type": "stream",
     "text": [
      "1\n",
      "2\n",
      "3\n",
      "0\n"
     ]
    }
   ],
   "source": [
    "var1 = input()\n",
    "var2 = input()\n",
    "var3 = input()\n",
    "countVar = 0\n",
    "if var1==var2: countVar+=1\n",
    "if var2==var3: countVar+=1\n",
    "if var1==var3: countVar+=1\n",
    "print(countVar)"
   ]
  },
  {
   "cell_type": "code",
   "execution_count": 34,
   "metadata": {},
   "outputs": [
    {
     "name": "stdout",
     "output_type": "stream",
     "text": [
      "1\n",
      "2\n",
      "3\n",
      "4\n",
      "5\n"
     ]
    }
   ],
   "source": [
    "var = 1\n",
    "while var <= 5:\n",
    "    print(var)\n",
    "    var+=1"
   ]
  },
  {
   "cell_type": "code",
   "execution_count": 35,
   "metadata": {},
   "outputs": [
    {
     "name": "stdout",
     "output_type": "stream",
     "text": [
      "1\n",
      "2\n",
      "3\n",
      "4\n",
      "5\n",
      "6\n",
      "7\n",
      "8\n",
      "9\n",
      "10\n",
      "11\n",
      "12\n",
      "13\n"
     ]
    }
   ],
   "source": [
    "for i in [1, 2, 3, 4, 5 ,6 ,7 ,8 ,9 , 10, 11, 12, 13]:\n",
    "    print(i)"
   ]
  },
  {
   "cell_type": "code",
   "execution_count": 39,
   "metadata": {},
   "outputs": [
    {
     "name": "stdout",
     "output_type": "stream",
     "text": [
      "-2\n",
      "-1\n",
      "0\n",
      "1\n",
      "2\n",
      "3\n",
      "4\n",
      "5\n",
      "6\n",
      "7\n",
      "8\n",
      "9\n",
      "10\n",
      "11\n",
      "12\n",
      "13\n"
     ]
    }
   ],
   "source": [
    "for i in range(0,14):\n",
    "    print(i)"
   ]
  },
  {
   "cell_type": "code",
   "execution_count": 40,
   "metadata": {},
   "outputs": [
    {
     "name": "stdout",
     "output_type": "stream",
     "text": [
      "P\n",
      "y\n",
      "t\n",
      "o\n",
      "n\n"
     ]
    }
   ],
   "source": [
    "for var in 'Python':\n",
    "    if var == 'h':\n",
    "        continue\n",
    "    print(var)"
   ]
  },
  {
   "cell_type": "code",
   "execution_count": 43,
   "metadata": {},
   "outputs": [
    {
     "name": "stdout",
     "output_type": "stream",
     "text": [
      "Символа a нет в слове Python\n",
      "Символа a нет в слове Python\n",
      "Символа a нет в слове Python\n",
      "Символа a нет в слове Python\n",
      "Символа a нет в слове Python\n",
      "Символа a нет в слове Python\n"
     ]
    }
   ],
   "source": [
    "for var in 'Python':\n",
    "    if var == 'a':\n",
    "        break\n",
    "    else:\n",
    "        print('Символа a нет в слове Python')"
   ]
  },
  {
   "cell_type": "code",
   "execution_count": 48,
   "metadata": {},
   "outputs": [
    {
     "name": "stdout",
     "output_type": "stream",
     "text": [
      "2\n"
     ]
    }
   ],
   "source": [
    "countvar = 0\n",
    "for i in [0,1,2,3,0]:\n",
    "    if i == 0: countvar +=1\n",
    "print(countvar)"
   ]
  },
  {
   "cell_type": "code",
   "execution_count": 124,
   "metadata": {},
   "outputs": [
    {
     "name": "stdout",
     "output_type": "stream",
     "text": [
      "        1\n",
      "       121\n",
      "      12321\n",
      "     1234321\n",
      "    123454321\n",
      "   12345654321\n",
      "  1234567654321\n",
      " 123456787654321\n",
      "12345678987654321\n",
      " 123456787654321\n",
      "  1234567654321\n",
      "   12345654321\n",
      "    123454321\n",
      "     1234321\n",
      "      12321\n",
      "       121\n",
      "        1\n"
     ]
    }
   ],
   "source": [
    "Ssize = 10\n",
    "for i in range(1,Ssize):\n",
    "    Stp = ''\n",
    "    for j  in range(-i,0): Stp = str(-j)+Stp\n",
    "    for j  in range(1,i): Stp = Stp+str(i-j) \n",
    "    for j  in range(1,Ssize-i): Stp = str(' ')+Stp\n",
    "    print(Stp)\n",
    "for i in range(1,Ssize-1):\n",
    "    Stp = ''\n",
    "    for j  in range(-Ssize+1+i,0): Stp = str(-j)+Stp\n",
    "    for j  in range(1,Ssize-1-i): Stp = Stp+str(Ssize-1-i-j) \n",
    "    for j  in range(1,i+1): Stp = str(' ')+Stp\n",
    "    print(Stp)\n",
    "    "
   ]
  },
  {
   "cell_type": "code",
   "execution_count": 138,
   "metadata": {
    "scrolled": true
   },
   "outputs": [
    {
     "name": "stdout",
     "output_type": "stream",
     "text": [
      "         1\n",
      "         21\n",
      "         321\n",
      "         4321\n",
      "         54321\n",
      "         654321\n",
      "         7654321\n",
      "         87654321\n",
      "         987654321\n",
      "123456789\n",
      " 12345678\n",
      "  1234567\n",
      "   123456\n",
      "    12345\n",
      "     1234\n",
      "      123\n",
      "       12\n",
      "        1\n",
      "         \n"
     ]
    }
   ],
   "source": [
    "Ssize = 10\n",
    "for i in range(1,Ssize):\n",
    "    Stp = ''\n",
    "    for j  in range(-i,0): Stp = str(' ')+Stp\n",
    "    for j  in range(0,i): Stp = Stp+str(i-j) \n",
    "    for j  in range(1,Ssize-i): Stp = str(' ')+Stp\n",
    "    print(Stp)\n",
    "for i in range(1,Ssize+1):\n",
    "    Stp = ''\n",
    "    for j  in range(-Ssize+i,0): Stp = str(-j)+Stp\n",
    "    for j  in range(1,i): Stp = str(' ')+Stp\n",
    "    print(Stp)"
   ]
  },
  {
   "cell_type": "code",
   "execution_count": 145,
   "metadata": {},
   "outputs": [
    {
     "name": "stdout",
     "output_type": "stream",
     "text": [
      "  ***     *    ***    ***      *    *****  *      *****   ***    ****  \n",
      " *   *   **   *   *  *   *    **    *      *          *  *   *  *   *  \n",
      "*     *   *   *  *       *   * *    *      *         *   *   *  *   *  \n",
      "*     *   *     *      **   *  *     ***   ****     *     ***    ****  \n",
      "*     *   *    *         *  ******      *  *   *   *     *   *      *  \n",
      " *   *    *   *      *   *     *        *  *   *  *      *   *      *  \n",
      "  ***    ***  *****   ***      *    ****   ****   *       ***       *  \n"
     ]
    }
   ],
   "source": [
    "zero = [\"  ***  \", \" *   * \", \"*     *\", \"*     *\", \"*     *\",\" *   * \",\"  ***  \"]\n",
    "one = [\" * \", \"** \", \" * \", \" * \", \" * \", \" * \", \"***\"]\n",
    "two = [\" *** \", \"*   *\", \"*  * \", \"  *  \", \" *   \", \"*    \", \"*****\"]\n",
    "three = [\" *** \", \"*   *\", \"    *\", \"  ** \", \"    *\", \"*   *\", \" *** \"]\n",
    "four = [\"   *  \", \"  **  \", \" * *  \", \"*  *  \", \"******\", \"   *  \", \"   *  \"]\n",
    "five = [\"*****\", \"*    \", \"*    \", \" *** \", \"    *\", \"    *\", \"**** \"]\n",
    "six = [\"*    \", \"*    \", \"*    \", \"**** \", \"*   *\", \"*   *\", \"**** \"]\n",
    "seven = [\"*****\", \"    *\", \"   * \", \"  *  \", \" *   \", \"*    \", \"*    \"]\n",
    "eight = [\" *** \", \"*   *\", \"*   *\", \" *** \", \"*   *\", \"*   *\", \" *** \"]\n",
    "nine = [\" ****\", \"*   *\", \"*   *\", \" ****\", \"    *\", \"    *\", \"    *\"]\n",
    "\n",
    "digits = [zero, one, two, three, four, five, six, seven, eight, nine]\n",
    "\n",
    "number = '0123456789'\n",
    "\n",
    "for row in range(7):\n",
    "    line = \"\"\n",
    "    for digit in number:\n",
    "        line += digits[int(digit)][row] + \"  \"\n",
    "    print(line)"
   ]
  },
  {
   "cell_type": "code",
   "execution_count": 149,
   "metadata": {
    "scrolled": true
   },
   "outputs": [
    {
     "name": "stdout",
     "output_type": "stream",
     "text": [
      "Pyth\n"
     ]
    }
   ],
   "source": [
    "s = 'Python'\n",
    "print(s[:4])"
   ]
  },
  {
   "cell_type": "code",
   "execution_count": 152,
   "metadata": {},
   "outputs": [
    {
     "data": {
      "text/plain": [
       "2"
      ]
     },
     "execution_count": 152,
     "metadata": {},
     "output_type": "execute_result"
    }
   ],
   "source": [
    "s = 'PythonohtyP'\n",
    "s.find('t')\n",
    "# find(str, [start],[end]) "
   ]
  },
  {
   "cell_type": "code",
   "execution_count": 154,
   "metadata": {},
   "outputs": [
    {
     "data": {
      "text/plain": [
       "2"
      ]
     },
     "execution_count": 154,
     "metadata": {},
     "output_type": "execute_result"
    }
   ],
   "source": [
    "s = 'Python'\n",
    "s.index('t')"
   ]
  },
  {
   "cell_type": "code",
   "execution_count": 159,
   "metadata": {},
   "outputs": [
    {
     "data": {
      "text/plain": [
       "'A'"
      ]
     },
     "execution_count": 159,
     "metadata": {},
     "output_type": "execute_result"
    }
   ],
   "source": [
    "w = 'Abraсadabra'\n",
    "w[2]"
   ]
  },
  {
   "cell_type": "code",
   "execution_count": 160,
   "metadata": {},
   "outputs": [
    {
     "data": {
      "text/plain": [
       "'r'"
      ]
     },
     "execution_count": 160,
     "metadata": {},
     "output_type": "execute_result"
    }
   ],
   "source": [
    "w[len(w)-2]"
   ]
  },
  {
   "cell_type": "code",
   "execution_count": 161,
   "metadata": {},
   "outputs": [
    {
     "data": {
      "text/plain": [
       "'Abraс'"
      ]
     },
     "execution_count": 161,
     "metadata": {},
     "output_type": "execute_result"
    }
   ],
   "source": [
    "w[:5]"
   ]
  },
  {
   "cell_type": "code",
   "execution_count": 162,
   "metadata": {},
   "outputs": [
    {
     "data": {
      "text/plain": [
       "'Abraсadab'"
      ]
     },
     "execution_count": 162,
     "metadata": {},
     "output_type": "execute_result"
    }
   ],
   "source": [
    "w[:len(w)-2]"
   ]
  },
  {
   "cell_type": "code",
   "execution_count": 166,
   "metadata": {},
   "outputs": [
    {
     "data": {
      "text/plain": [
       "'Abraсadabra'"
      ]
     },
     "execution_count": 166,
     "metadata": {},
     "output_type": "execute_result"
    }
   ],
   "source": [
    "w[0:len(w)]"
   ]
  },
  {
   "cell_type": "code",
   "execution_count": 183,
   "metadata": {},
   "outputs": [
    {
     "name": "stdout",
     "output_type": "stream",
     "text": [
      "Arсdba\n"
     ]
    }
   ],
   "source": [
    "ww = ''\n",
    "for i in range(0,len(w)):\n",
    "    if i%2 == 0: ww = ww + w[i]\n",
    "print(ww)"
   ]
  },
  {
   "cell_type": "code",
   "execution_count": 196,
   "metadata": {},
   "outputs": [
    {
     "name": "stdout",
     "output_type": "stream",
     "text": [
      "abdсrA\n"
     ]
    }
   ],
   "source": [
    "ww = ''\n",
    "for i in range((-len(w)+1),1):\n",
    "    if i%2 == 0:ww = ww + w[-i]\n",
    "print(ww)"
   ]
  },
  {
   "cell_type": "code",
   "execution_count": 225,
   "metadata": {},
   "outputs": [
    {
     "name": "stdout",
     "output_type": "stream",
     "text": [
      "Word1 Word2 Word3\n"
     ]
    }
   ],
   "source": [
    "phrase = 'word1 word2 word3'\n",
    "ListWords = phrase.split(' ') \n",
    "for i in range(0,len(ListWords)):\n",
    "    ListWords[i] = ListWords[i][0].upper()+ListWords[i][1:]\n",
    "print(' '.join(ListWords))"
   ]
  },
  {
   "cell_type": "code",
   "execution_count": 228,
   "metadata": {},
   "outputs": [
    {
     "data": {
      "text/plain": [
       "['P', 'y', 't', 'h', 'o', 'n']"
      ]
     },
     "execution_count": 228,
     "metadata": {},
     "output_type": "execute_result"
    }
   ],
   "source": [
    "list('Python')"
   ]
  },
  {
   "cell_type": "code",
   "execution_count": 229,
   "metadata": {},
   "outputs": [
    {
     "data": {
      "text/plain": [
       "['PPP', 'yyy', 'ttt', 'hhh', 'ooo', 'nnn']"
      ]
     },
     "execution_count": 229,
     "metadata": {},
     "output_type": "execute_result"
    }
   ],
   "source": [
    "a = ['P', 'y', 't', 'h', 'o', 'n']\n",
    "b = [i * 3 for i in a]\n",
    "b"
   ]
  },
  {
   "cell_type": "code",
   "execution_count": 236,
   "metadata": {},
   "outputs": [
    {
     "data": {
      "text/plain": [
       "['PPP', 'yyy', 'ttt', 'hhh', 'ooo', 'nnn', 'fff', 'fff', 'fff', 'fff', 'fff']"
      ]
     },
     "execution_count": 236,
     "metadata": {},
     "output_type": "execute_result"
    }
   ],
   "source": [
    "b.append('fff')\n",
    "b"
   ]
  },
  {
   "cell_type": "code",
   "execution_count": 238,
   "metadata": {},
   "outputs": [
    {
     "data": {
      "text/plain": [
       "['PPP', 'yyy', 'ttt', 'hhh', 'ooo', 'nnn', 'fff', 'fff', 'fff']"
      ]
     },
     "execution_count": 238,
     "metadata": {},
     "output_type": "execute_result"
    }
   ],
   "source": [
    "b.remove('fff')\n",
    "b"
   ]
  },
  {
   "cell_type": "code",
   "execution_count": 242,
   "metadata": {},
   "outputs": [
    {
     "data": {
      "text/plain": [
       "['PPP', 'yyy', 'fff', 'fff', 'fff']"
      ]
     },
     "execution_count": 242,
     "metadata": {},
     "output_type": "execute_result"
    }
   ],
   "source": [
    "b.pop(2)\n",
    "b"
   ]
  },
  {
   "cell_type": "code",
   "execution_count": 243,
   "metadata": {},
   "outputs": [
    {
     "data": {
      "text/plain": [
       "3"
      ]
     },
     "execution_count": 243,
     "metadata": {},
     "output_type": "execute_result"
    }
   ],
   "source": [
    "b.count('fff')"
   ]
  },
  {
   "cell_type": "code",
   "execution_count": 244,
   "metadata": {},
   "outputs": [
    {
     "name": "stdout",
     "output_type": "stream",
     "text": [
      "['n', 'o', 'h', 't', 'y', 'P']\n",
      "['n', 'o', 'h', 't', 'y', 'P']\n"
     ]
    }
   ],
   "source": [
    "a = ['P', 'y', 't', 'h', 'o', 'n']\n",
    "b = a\n",
    "a.reverse()\n",
    "print(a)\n",
    "print(b)"
   ]
  },
  {
   "cell_type": "code",
   "execution_count": 245,
   "metadata": {},
   "outputs": [
    {
     "name": "stdout",
     "output_type": "stream",
     "text": [
      "['n', 'o', 'h', 't', 'y', 'P']\n",
      "['P', 'y', 't', 'h', 'o', 'n']\n"
     ]
    }
   ],
   "source": [
    "a = ['P', 'y', 't', 'h', 'o', 'n']\n",
    "b = a.copy()\n",
    "a.reverse()\n",
    "print(a)\n",
    "print(b)"
   ]
  },
  {
   "cell_type": "code",
   "execution_count": 296,
   "metadata": {},
   "outputs": [
    {
     "name": "stdout",
     "output_type": "stream",
     "text": [
      "[1, 3]\n"
     ]
    }
   ],
   "source": [
    "numbers = [1,2,3,4,5]\n",
    "message = []\n",
    "for i in range(0,len(numbers)-1):\n",
    "    if i%2 == 0: message.append(numbers[i])\n",
    "print(message)"
   ]
  },
  {
   "cell_type": "code",
   "execution_count": 297,
   "metadata": {},
   "outputs": [
    {
     "name": "stdout",
     "output_type": "stream",
     "text": [
      "[5, 4]\n"
     ]
    }
   ],
   "source": [
    "numbers = [1,5,2,4,3]\n",
    "message = []\n",
    "for i in range(1,len(numbers)-1):\n",
    "    if numbers[i-1]<numbers[i]: message.append(numbers[i])\n",
    "print(message)"
   ]
  },
  {
   "cell_type": "code",
   "execution_count": 312,
   "metadata": {},
   "outputs": [
    {
     "name": "stdout",
     "output_type": "stream",
     "text": [
      "[10, 5, -5]\n"
     ]
    }
   ],
   "source": [
    "numbers = [-5,5,10]\n",
    "message = []\n",
    "maxN = numbers[0]\n",
    "minN = numbers[0]\n",
    "for i in range(1,len(numbers)):\n",
    "    if maxN<numbers[i]: maxN = numbers[i]\n",
    "    if minN>numbers[i]: minN = numbers[i]\n",
    "numbers[numbers.index(maxN)] = minN\n",
    "numbers[numbers.index(minN)] = maxN\n",
    "print(numbers)"
   ]
  },
  {
   "cell_type": "code",
   "execution_count": 313,
   "metadata": {},
   "outputs": [
    {
     "name": "stdout",
     "output_type": "stream",
     "text": [
      "{'short': 'dict', 'long': 'dictionary'}\n"
     ]
    }
   ],
   "source": [
    "d = dict(short='dict', long='dictionary')\n",
    "print(d)"
   ]
  },
  {
   "cell_type": "code",
   "execution_count": 314,
   "metadata": {},
   "outputs": [
    {
     "name": "stdout",
     "output_type": "stream",
     "text": [
      "{1: 1, 2: 4}\n"
     ]
    }
   ],
   "source": [
    "d = dict([(1, 1), (2, 4)])\n",
    "print(d)"
   ]
  },
  {
   "cell_type": "code",
   "execution_count": 315,
   "metadata": {},
   "outputs": [
    {
     "name": "stdout",
     "output_type": "stream",
     "text": [
      "{'a': 100, 'b': 100}\n"
     ]
    }
   ],
   "source": [
    "d = dict.fromkeys(['a', 'b'], 100)\n",
    "print(d)"
   ]
  },
  {
   "cell_type": "code",
   "execution_count": 316,
   "metadata": {},
   "outputs": [
    {
     "data": {
      "text/plain": [
       "dict_items([('a', 100), ('b', 100)])"
      ]
     },
     "execution_count": 316,
     "metadata": {},
     "output_type": "execute_result"
    }
   ],
   "source": [
    "d.items()"
   ]
  },
  {
   "cell_type": "code",
   "execution_count": 317,
   "metadata": {},
   "outputs": [
    {
     "data": {
      "text/plain": [
       "dict_keys(['a', 'b'])"
      ]
     },
     "execution_count": 317,
     "metadata": {},
     "output_type": "execute_result"
    }
   ],
   "source": [
    "d.keys()"
   ]
  },
  {
   "cell_type": "code",
   "execution_count": 318,
   "metadata": {},
   "outputs": [],
   "source": [
    "d.update({'c':101})"
   ]
  },
  {
   "cell_type": "code",
   "execution_count": 319,
   "metadata": {},
   "outputs": [
    {
     "data": {
      "text/plain": [
       "dict_items([('a', 100), ('b', 100), ('c', 101)])"
      ]
     },
     "execution_count": 319,
     "metadata": {},
     "output_type": "execute_result"
    }
   ],
   "source": [
    "d.items()"
   ]
  },
  {
   "cell_type": "code",
   "execution_count": 320,
   "metadata": {},
   "outputs": [
    {
     "data": {
      "text/plain": [
       "100"
      ]
     },
     "execution_count": 320,
     "metadata": {},
     "output_type": "execute_result"
    }
   ],
   "source": [
    "d.get('a')"
   ]
  },
  {
   "cell_type": "code",
   "execution_count": 321,
   "metadata": {},
   "outputs": [
    {
     "name": "stdout",
     "output_type": "stream",
     "text": [
      "Hello\n"
     ]
    },
    {
     "data": {
      "text/plain": [
       "'Hi'"
      ]
     },
     "execution_count": 321,
     "metadata": {},
     "output_type": "execute_result"
    }
   ],
   "source": [
    "d = dict({'Hello':'Hi','Bye':'Goodbye','List':'Array'})\n",
    "ask = input()\n",
    "d.keys(ask)"
   ]
  },
  {
   "cell_type": "code",
   "execution_count": 323,
   "metadata": {},
   "outputs": [
    {
     "name": "stdout",
     "output_type": "stream",
     "text": [
      "Hi\n",
      "Hello\n"
     ]
    }
   ],
   "source": [
    "d = dict({'Hello':'Hi','Bye':'Goodbye','List':'Array'})\n",
    "ask = input()\n",
    "for theKey, theValue in d.items():\n",
    "    if theValue == ask: print(theKey)\n"
   ]
  },
  {
   "cell_type": "code",
   "execution_count": 361,
   "metadata": {},
   "outputs": [
    {
     "data": {
      "text/plain": [
       "[3, 1, 2, 1]"
      ]
     },
     "execution_count": 361,
     "metadata": {},
     "output_type": "execute_result"
    }
   ],
   "source": [
    "d = ['abc','bcd','abc','abd','abd','dcd','abc']\n",
    "dd = dict({})\n",
    "for i in range (0, len(d)):\n",
    "    if dd.get(d[i]) == None: dd.update({d[i]:1})\n",
    "    else: dd[d[i]] = int(dd[d[i]])+1\n",
    "list(dd.values())"
   ]
  },
  {
   "cell_type": "code",
   "execution_count": 362,
   "metadata": {},
   "outputs": [
    {
     "data": {
      "text/plain": [
       "{'abc', 'abd', 'bcd', 'dcd'}"
      ]
     },
     "execution_count": 362,
     "metadata": {},
     "output_type": "execute_result"
    }
   ],
   "source": [
    "d = ['abc','bcd','abc','abd','abd','dcd','abc']\n",
    "dd = set(d)"
   ]
  },
  {
   "cell_type": "code",
   "execution_count": 363,
   "metadata": {},
   "outputs": [
    {
     "data": {
      "text/plain": [
       "True"
      ]
     },
     "execution_count": 363,
     "metadata": {},
     "output_type": "execute_result"
    }
   ],
   "source": [
    "'abc' in dd"
   ]
  },
  {
   "cell_type": "code",
   "execution_count": 366,
   "metadata": {},
   "outputs": [
    {
     "data": {
      "text/plain": [
       "3"
      ]
     },
     "execution_count": 366,
     "metadata": {},
     "output_type": "execute_result"
    }
   ],
   "source": [
    "d = [1,2,3,2,1]\n",
    "len(set(d))"
   ]
  },
  {
   "cell_type": "code",
   "execution_count": 370,
   "metadata": {},
   "outputs": [
    {
     "data": {
      "text/plain": [
       "1"
      ]
     },
     "execution_count": 370,
     "metadata": {},
     "output_type": "execute_result"
    }
   ],
   "source": [
    "d = [1,2,3]\n",
    "dd = [1,4,5]\n",
    "(len(d)+len(dd))-len(set(d).union(dd))"
   ]
  },
  {
   "cell_type": "code",
   "execution_count": 372,
   "metadata": {},
   "outputs": [
    {
     "data": {
      "text/plain": [
       "False"
      ]
     },
     "execution_count": 372,
     "metadata": {},
     "output_type": "execute_result"
    }
   ],
   "source": [
    "d = set(d)\n",
    "dd = set(dd)\n",
    "d.issubset(dd)"
   ]
  },
  {
   "cell_type": "code",
   "execution_count": 374,
   "metadata": {},
   "outputs": [
    {
     "data": {
      "text/plain": [
       "True"
      ]
     },
     "execution_count": 374,
     "metadata": {},
     "output_type": "execute_result"
    }
   ],
   "source": [
    "d = set([1,2,3,4,5,6,7])\n",
    "dd = set([10,9,8,7,6,5,4,3,2,1,0])\n",
    "d.issubset(dd)"
   ]
  },
  {
   "cell_type": "code",
   "execution_count": 376,
   "metadata": {},
   "outputs": [
    {
     "data": {
      "text/plain": [
       "3"
      ]
     },
     "execution_count": 376,
     "metadata": {},
     "output_type": "execute_result"
    }
   ],
   "source": [
    "def sum(x, y):\n",
    "    return x + y\n",
    "sum(1,2)"
   ]
  },
  {
   "cell_type": "code",
   "execution_count": 417,
   "metadata": {},
   "outputs": [
    {
     "data": {
      "text/plain": [
       "12321"
      ]
     },
     "execution_count": 417,
     "metadata": {},
     "output_type": "execute_result"
    }
   ],
   "source": [
    "def calc(x):\n",
    "    numb1 = ''\n",
    "    numb2 = ''\n",
    "    operator = ''\n",
    "    setoper = set({'+','-','*','/','%','**'})\n",
    "    for i in x:\n",
    "        if not str(i).isnumeric(): operator+=i\n",
    "        if operator == '' and str(i).isnumeric():numb1 += i\n",
    "        if operator != '' and str(i).isnumeric():numb2 += i\n",
    "    if operator == '+': numb1 = int(numb1) + int(numb2)\n",
    "    elif operator == '-': numb1 = int(numb1) + int(numb2)\n",
    "    elif operator == '*': numb1 = int(numb1) * int(numb2)\n",
    "    elif operator == '/': numb1 = int(numb1) / int(numb2)\n",
    "    elif operator == '%': numb1 = int(numb1) / 100\n",
    "    elif numb2 != '' and operator == '**': numb1 = int(numb1) ** int(numb2)\n",
    "    elif numb2 == '' and operator == '**': numb1 = int(numb1) * int(numb1)\n",
    "    return numb1\n",
    "calc('111**')"
   ]
  },
  {
   "cell_type": "code",
   "execution_count": 431,
   "metadata": {},
   "outputs": [
    {
     "name": "stdout",
     "output_type": "stream",
     "text": [
      "31\t3942.5\t0.0042\t4\t3\t0.194\t0.275\t0.02625\t0.03875\t0.0035\t0.0065\t0.04575\t0.05825\t0.011\t0.021\n",
      "\n",
      "61\t7237\t0.0072\t4\t3\t0.17775\t0.25825\t0.02175\t0.03425\t0.004\t0.007\t0.04675\t0.05925\t0.01225\t0.02225\n",
      "\n",
      "91\t10506.5\t0.0087\t4\t3\t0.1665\t0.2475\t0.02225\t0.03475\t0.0045\t0.0075\t0.04825\t0.06075\t0.014\t0.024\n",
      "\n",
      "184\t19466.5\t0.0084\t4\t3\t0.14825\t0.22975\t0.024\t0.036\t0.00525\t0.00825\t0.052\t0.064\t0.01625\t0.02625\n",
      "\n",
      "366\t37260\t0.0097\t4\t3\t0.132\t0.213\t0.0265\t0.0385\t0.007\t0.0095\t0.058\t0.07\t0.0205\t0.0305\n",
      "\n",
      "This is not the end!This is not the end!This is not the end!\n"
     ]
    }
   ],
   "source": [
    "f = open(r'C:\\Users\\Макс\\Documents\\MATLAB\\VVV.txt','r+',encoding='utf-8')\n",
    "f.write('This is not the end!\\n')\n",
    "for line in f:\n",
    "    print(line)\n",
    "f.close()"
   ]
  },
  {
   "cell_type": "code",
   "execution_count": 318,
   "metadata": {},
   "outputs": [],
   "source": [
    "\n",
    "\n",
    "def check_line(list_in):\n",
    "    if ('' != list_in.split(',')[1].strip() and \n",
    "        '' != list_in.split(',')[2].strip() and \n",
    "        '' != list_in.split(',')[3].strip() and \n",
    "        '' != list_in.split(',')[4].strip() and \n",
    "        len(list_in.split(',')[3].strip())==7):\n",
    "        return True\n",
    "    else: return False\n",
    "    "
   ]
  },
  {
   "cell_type": "code",
   "execution_count": 59,
   "metadata": {},
   "outputs": [
    {
     "name": "stdout",
     "output_type": "stream",
     "text": [
      "['Petrov.I@company.io', 'Dsdf.D@company.io']\n",
      "Abramov - Abramov.I@company.io\n",
      "Nikolaev - Nikolaev.A@company.io\n",
      "Shapar - Shapar.M@company.io\n",
      "Vasilyev - Vasilyev.D@company.io\n",
      "Grigoryan - Grigoryan.A@company.io\n",
      "Lisitsyn - Lisitsyn.A@company.io\n",
      "Abramova - Abramova.D@company.io\n",
      "Kostina - Kostina.N@company.io\n",
      "Ermolin - Ermolin.N@company.io\n",
      "Solovovo - Solovovo.V@company.io\n",
      "Ivanov - Ivanov.V@company.io\n",
      "Nikolaev - Nikolaev.S@company.io\n",
      "Ivanov - Ivanov.I@company.io\n",
      "Semenov - Semenov.K@company.io\n",
      "Smirnov - Smirnov.G@company.io\n",
      "Lashko - Lashko.A@company.io\n",
      "dwfef - dwfef.s@company.io\n",
      "Edger - Edger.O@company.io\n",
      "Bogomolova - Bogomolova.O@company.io\n",
      "Strizh - Strizh.E@company.io\n",
      "Volskaya - Volskaya.P@company.io\n",
      "Malinin - Malinin.F@company.io\n",
      "Pahomova - Pahomova.O@company.io\n",
      "Bogdanov - Bogdanov.S@company.io\n",
      "Smirnov - Smirnov.D@company.io\n",
      "Kolokolkina - Kolokolkina.V@company.io\n",
      "Sobolev - Sobolev.I@company.io\n",
      "Orlova - Orlova.K@company.io\n",
      "Ermolin - Ermolin.A@company.io\n",
      "Vasilevskaya - Vasilevskaya.E@company.io\n",
      "Koroleva - Koroleva.T@company.io\n",
      "Moskvina - Moskvina.E@company.io\n",
      "Sinev - Sinev.M@company.io\n",
      "NO_NAME - NO_NAME.N@company.io\n",
      "Boshich - Boshich.A@company.io\n",
      "Kapustina - Kapustina.S@company.io\n",
      "Nikolaev - Nikolaev.B@company.io\n",
      "Mozgvin - Mozgvin.A@company.io\n",
      "Bogatyreva - Bogatyreva.O@company.io\n",
      "Nosatenko - Nosatenko.K@company.io\n",
      "sfewrfw - sfewrfw.f@company.io\n",
      "Grigoriev - Grigoriev.K@company.io\n"
     ]
    }
   ],
   "source": [
    "print(email_gen([['Ivan', 'Petrov'],['Dsdfsd', 'Dsdf'] ]))\n",
    "\n",
    "\n",
    "f = open(r'D:\\Coding\\Python\\2020.04.28\\task_file.txt','r+',encoding='utf-8')\n",
    "list_f = []\n",
    "list_in = list(f).copy()\n",
    "\n",
    "for i in range(1,len(list_in)):\n",
    "    if check_line(list_in[i]):\n",
    "        list_f.append(list_in[i].split(', ')[1:3])\n",
    "    \n",
    "p = email_gen(list_f)\n",
    "for q in range(0,len(list_f)):\n",
    "    print(list_f[q][1] + ' - ' + p[q])\n",
    "\n",
    "f.close()\n",
    "\n",
    "#         for ii in range(i+1,len(list_in)):     \n",
    "#             if (list_in[ii].split(',')[1] == list_in[i].split(',')[1] and \n",
    "#                 list_in[ii].split(',')[2] == list_in[i].split(',')[2] and\n",
    "#                 check_line(list_in[ii])):\n",
    "#                 temp_f.append([list_in[ii].split(',')[1].split(), \n",
    "#                                list_in[ii].split(',')[2].split()])"
   ]
  },
  {
   "cell_type": "code",
   "execution_count": 66,
   "metadata": {},
   "outputs": [
    {
     "name": "stdout",
     "output_type": "stream",
     "text": [
      "2020-05-04 13:43:38.475151\n",
      "2020-05-04 03:43:38.475150\n"
     ]
    }
   ],
   "source": [
    "import datetime as dt\n",
    "print(dt.datetime.today())\n",
    "print(dt.datetime.utcnow())"
   ]
  },
  {
   "cell_type": "code",
   "execution_count": 95,
   "metadata": {},
   "outputs": [
    {
     "name": "stdout",
     "output_type": "stream",
     "text": [
      "9\n",
      "l\n",
      "['l', ' ', 'r', '!', 'w', 'e', 'l', 'o', 'o', 'H', 'd', 'l']\n",
      "0.28203183389416275\n"
     ]
    }
   ],
   "source": [
    "import random as rg\n",
    "print(rg.randrange(9,10,2))\n",
    "print(rg.choice('Hello world!'))\n",
    "st = list('Hello world!')\n",
    "rg.shuffle(st)\n",
    "print(st)\n",
    "print(rg.random())"
   ]
  },
  {
   "cell_type": "code",
   "execution_count": 151,
   "metadata": {},
   "outputs": [
    {
     "name": "stdout",
     "output_type": "stream",
     "text": [
      "<re.Match object; span=(0, 2), match='He'>\n",
      "<re.Match object; span=(6, 8), match='wo'>\n",
      "Hello-hell!\n",
      "['world']\n",
      "['', '', '', '', '', '', 'w', '', '', '', '', '', '']\n",
      "['o', 'o']\n",
      "['', '', '', '', 'o', '', '', 'o', '', '', '', '', '']\n",
      "['H', 'e', 'l', 'l', 'o', 'w', 'o', 'r', 'l', 'd']\n",
      "['1']\n",
      "['H', 'w']\n",
      "['ld!']\n",
      "['Hel']\n",
      "['67.19.240.114']\n",
      "['67.19', '240.114']\n"
     ]
    }
   ],
   "source": [
    "import re\n",
    "st = 'Hello-world!'\n",
    "print(re.match(r'He',st))\n",
    "print(re.search(r'wo',st))\n",
    "print(re.sub(r'world','hell', st))\n",
    "print(re.findall(r'w....',st))\n",
    "print(re.findall(r'w?',st))\n",
    "print(re.findall(r'o+',st))\n",
    "print(re.findall(r'o*',st))\n",
    "print(re.findall(r'\\w',st))\n",
    "st = 'Hello1world!'\n",
    "print(re.findall(r'\\d',st))\n",
    "st = 'Hello world!'\n",
    "print(re.findall(r'\\b\\w',st))\n",
    "print(re.findall(r'...$',st))\n",
    "print(re.findall(r'^...',st))\n",
    "\n",
    "st = 'asdasd asdada a12313sdasdsa 67.19.240.114 sdsdf'\n",
    "print(re.findall(r'\\d+\\.\\d+\\.\\d+\\.\\d+',st))\n",
    "print(re.findall(r'\\d+\\.\\d+',st))"
   ]
  },
  {
   "cell_type": "code",
   "execution_count": 322,
   "metadata": {},
   "outputs": [
    {
     "name": "stdout",
     "output_type": "stream",
     "text": [
      "['Abramov.I@company.io', 'Nikolaev.A@company.io', 'Shapar.M@company.io', 'Vasilyev.D@company.io', 'Grigoryan.A@company.io', 'Fedorov.A@company.io', 'Lisitsyn.A@company.io', 'Abramova.D@company.io', 'Kostina.N@company.io', 'Ermolin.N@company.io', 'Solovovo.V@company.io', 'Ivanov.V@company.io', 'Nikolaev.S@company.io', 'Ivanov.I@company.io', 'Semenov.K@company.io', 'Smirnov.G@company.io', 'Lashko.A@company.io', 'dwfef.s@company.io', 'Edger.O@company.io', 'Bogomolova.O@company.io', 'Strizh.E@company.io', 'Sergach.V@company.io', 'Volskaya.P@company.io', 'Malinin.F@company.io', 'Pahomova.O@company.io', 'Bogdanov.S@company.io', 'Sobolev.I@company.io', 'Orlova.K@company.io', 'Ermolin.A@company.io', 'Vasilevskaya.E@company.io', 'Koroleva.T@company.io', 'Moskvina.E@company.io', 'Sinev.M@company.io', 'NO_NAME.N@company.io', 'Boshich.A@company.io', 'Kapustina.S@company.io', 'Nikolaev.B@company.io', 'Mozgvin.A@company.io', 'Bogatyreva.O@company.io', 'Nosatenko.K@company.io', 'sfewrfw.f@company.io', 'Grigoriev.K@company.io']\n"
     ]
    }
   ],
   "source": [
    "import re\n",
    "f = open(r'D:\\Coding\\Python\\2020.04.28\\task_file.txt','r+',encoding='utf-8')\n",
    "lines = f.read().splitlines()[1:]\n",
    "f.close()\n",
    "data_set=[]\n",
    "\n",
    "for line in lines:\n",
    "    temp = re.split(r', ',line)\n",
    "    if ('' not in temp[1:5] and \n",
    "        re.findall(r'\\d\\d\\d\\d\\d\\d\\d',temp[3])!=[]):\n",
    "        data_set.append(temp[1:5])\n",
    "emails = email_gen(data_set)\n",
    "print(emails)\n",
    "\n",
    "def email_gen(list_of_names):\n",
    "    emails = []\n",
    "    for i in list_of_names:\n",
    "        letter = 1\n",
    "        while i[1] + '.' + i[0][0:letter] + '@company.io' in emails:\n",
    "            letter+=1\n",
    "            print(letter)\n",
    "        emails.append(i[1] + '.' + i[0][0:letter] + '@company.io')\n",
    "    return emails"
   ]
  },
  {
   "cell_type": "code",
   "execution_count": 334,
   "metadata": {},
   "outputs": [
    {
     "name": "stdout",
     "output_type": "stream",
     "text": [
      "[1, 2, 3, 4]\n"
     ]
    }
   ],
   "source": [
    "a = [1,2,3,4,5,6,7,8,9,0]\n",
    "print(a[:4])"
   ]
  },
  {
   "cell_type": "code",
   "execution_count": 335,
   "metadata": {},
   "outputs": [
    {
     "ename": "TypeError",
     "evalue": "can only concatenate str (not \"int\") to str",
     "output_type": "error",
     "traceback": [
      "\u001b[1;31m---------------------------------------------------------------------------\u001b[0m",
      "\u001b[1;31mTypeError\u001b[0m                                 Traceback (most recent call last)",
      "\u001b[1;32m<ipython-input-335-ea4f2cfdff54>\u001b[0m in \u001b[0;36m<module>\u001b[1;34m\u001b[0m\n\u001b[1;32m----> 1\u001b[1;33m \u001b[0mprint\u001b[0m\u001b[1;33m(\u001b[0m\u001b[1;34m'sdff'\u001b[0m \u001b[1;33m+\u001b[0m \u001b[1;36m5\u001b[0m\u001b[1;33m)\u001b[0m\u001b[1;33m\u001b[0m\u001b[1;33m\u001b[0m\u001b[0m\n\u001b[0m",
      "\u001b[1;31mTypeError\u001b[0m: can only concatenate str (not \"int\") to str"
     ]
    }
   ],
   "source": [
    "print('sdff' + 5)\n"
   ]
  },
  {
   "cell_type": "code",
   "execution_count": 336,
   "metadata": {},
   "outputs": [
    {
     "name": "stdout",
     "output_type": "stream",
     "text": [
      "7\n"
     ]
    }
   ],
   "source": [
    "print(1|3|4)"
   ]
  },
  {
   "cell_type": "code",
   "execution_count": 359,
   "metadata": {},
   "outputs": [
    {
     "data": {
      "text/plain": [
       "'Pyt'"
      ]
     },
     "execution_count": 359,
     "metadata": {},
     "output_type": "execute_result"
    }
   ],
   "source": [
    "'Python'[0:3]"
   ]
  },
  {
   "cell_type": "code",
   "execution_count": 371,
   "metadata": {},
   "outputs": [
    {
     "name": "stdout",
     "output_type": "stream",
     "text": [
      "za\n"
     ]
    }
   ],
   "source": [
    "dfd = 'From marquard@uct.ac.za'\n",
    "print(dfd[-2:])"
   ]
  },
  {
   "cell_type": "code",
   "execution_count": 1,
   "metadata": {},
   "outputs": [
    {
     "name": "stdout",
     "output_type": "stream",
     "text": [
      "11\n"
     ]
    }
   ],
   "source": [
    "var = 11\n",
    "print(var)"
   ]
  },
  {
   "cell_type": "code",
   "execution_count": 1,
   "metadata": {
    "scrolled": true
   },
   "outputs": [
    {
     "data": {
      "text/html": [
       "<div>\n",
       "<style scoped>\n",
       "    .dataframe tbody tr th:only-of-type {\n",
       "        vertical-align: middle;\n",
       "    }\n",
       "\n",
       "    .dataframe tbody tr th {\n",
       "        vertical-align: top;\n",
       "    }\n",
       "\n",
       "    .dataframe thead th {\n",
       "        text-align: right;\n",
       "    }\n",
       "</style>\n",
       "<table border=\"1\" class=\"dataframe\">\n",
       "  <thead>\n",
       "    <tr style=\"text-align: right;\">\n",
       "      <th></th>\n",
       "      <th>Days</th>\n",
       "      <th>SWAP_Points</th>\n",
       "      <th>CCY1_Rates</th>\n",
       "      <th>Delta_Conv</th>\n",
       "      <th>ATM_Conv</th>\n",
       "      <th>ATM_BID</th>\n",
       "      <th>ATM_ASK</th>\n",
       "      <th>25RR_BID</th>\n",
       "      <th>25RR_ASK</th>\n",
       "      <th>25BF_BID</th>\n",
       "      <th>25BF_ASK</th>\n",
       "      <th>10RR_BID</th>\n",
       "      <th>10RR_ASK</th>\n",
       "      <th>10BF_BID</th>\n",
       "      <th>10BF_ASK</th>\n",
       "    </tr>\n",
       "  </thead>\n",
       "  <tbody>\n",
       "    <tr>\n",
       "      <th>0</th>\n",
       "      <td>35</td>\n",
       "      <td>3746.5</td>\n",
       "      <td>0.00230</td>\n",
       "      <td>4</td>\n",
       "      <td>3</td>\n",
       "      <td>0.13600</td>\n",
       "      <td>0.21700</td>\n",
       "      <td>0.02625</td>\n",
       "      <td>0.03875</td>\n",
       "      <td>0.00350</td>\n",
       "      <td>0.00650</td>\n",
       "      <td>0.04575</td>\n",
       "      <td>0.05825</td>\n",
       "      <td>0.01100</td>\n",
       "      <td>0.02100</td>\n",
       "    </tr>\n",
       "    <tr>\n",
       "      <th>1</th>\n",
       "      <td>63</td>\n",
       "      <td>6835.0</td>\n",
       "      <td>0.00300</td>\n",
       "      <td>4</td>\n",
       "      <td>3</td>\n",
       "      <td>0.13150</td>\n",
       "      <td>0.21250</td>\n",
       "      <td>0.02175</td>\n",
       "      <td>0.03425</td>\n",
       "      <td>0.00400</td>\n",
       "      <td>0.00700</td>\n",
       "      <td>0.04675</td>\n",
       "      <td>0.05925</td>\n",
       "      <td>0.01225</td>\n",
       "      <td>0.02225</td>\n",
       "    </tr>\n",
       "    <tr>\n",
       "      <th>2</th>\n",
       "      <td>96</td>\n",
       "      <td>10081.5</td>\n",
       "      <td>0.00410</td>\n",
       "      <td>4</td>\n",
       "      <td>3</td>\n",
       "      <td>0.12725</td>\n",
       "      <td>0.20775</td>\n",
       "      <td>0.02225</td>\n",
       "      <td>0.03475</td>\n",
       "      <td>0.00450</td>\n",
       "      <td>0.00750</td>\n",
       "      <td>0.04825</td>\n",
       "      <td>0.06075</td>\n",
       "      <td>0.01400</td>\n",
       "      <td>0.02400</td>\n",
       "    </tr>\n",
       "    <tr>\n",
       "      <th>3</th>\n",
       "      <td>188</td>\n",
       "      <td>18860.5</td>\n",
       "      <td>0.00610</td>\n",
       "      <td>4</td>\n",
       "      <td>3</td>\n",
       "      <td>0.12050</td>\n",
       "      <td>0.20150</td>\n",
       "      <td>0.02400</td>\n",
       "      <td>0.03600</td>\n",
       "      <td>0.00525</td>\n",
       "      <td>0.00825</td>\n",
       "      <td>0.05200</td>\n",
       "      <td>0.06400</td>\n",
       "      <td>0.01625</td>\n",
       "      <td>0.02625</td>\n",
       "    </tr>\n",
       "    <tr>\n",
       "      <th>4</th>\n",
       "      <td>369</td>\n",
       "      <td>35330.0</td>\n",
       "      <td>0.00681</td>\n",
       "      <td>4</td>\n",
       "      <td>3</td>\n",
       "      <td>0.11125</td>\n",
       "      <td>0.19275</td>\n",
       "      <td>0.02650</td>\n",
       "      <td>0.03850</td>\n",
       "      <td>0.00700</td>\n",
       "      <td>0.00950</td>\n",
       "      <td>0.05800</td>\n",
       "      <td>0.07000</td>\n",
       "      <td>0.02050</td>\n",
       "      <td>0.03050</td>\n",
       "    </tr>\n",
       "  </tbody>\n",
       "</table>\n",
       "</div>"
      ],
      "text/plain": [
       "   Days  SWAP_Points  CCY1_Rates  Delta_Conv  ATM_Conv  ATM_BID  ATM_ASK  \\\n",
       "0    35       3746.5     0.00230           4         3  0.13600  0.21700   \n",
       "1    63       6835.0     0.00300           4         3  0.13150  0.21250   \n",
       "2    96      10081.5     0.00410           4         3  0.12725  0.20775   \n",
       "3   188      18860.5     0.00610           4         3  0.12050  0.20150   \n",
       "4   369      35330.0     0.00681           4         3  0.11125  0.19275   \n",
       "\n",
       "   25RR_BID  25RR_ASK  25BF_BID  25BF_ASK  10RR_BID  10RR_ASK  10BF_BID  \\\n",
       "0   0.02625   0.03875   0.00350   0.00650   0.04575   0.05825   0.01100   \n",
       "1   0.02175   0.03425   0.00400   0.00700   0.04675   0.05925   0.01225   \n",
       "2   0.02225   0.03475   0.00450   0.00750   0.04825   0.06075   0.01400   \n",
       "3   0.02400   0.03600   0.00525   0.00825   0.05200   0.06400   0.01625   \n",
       "4   0.02650   0.03850   0.00700   0.00950   0.05800   0.07000   0.02050   \n",
       "\n",
       "   10BF_ASK  \n",
       "0   0.02100  \n",
       "1   0.02225  \n",
       "2   0.02400  \n",
       "3   0.02625  \n",
       "4   0.03050  "
      ]
     },
     "execution_count": 1,
     "metadata": {},
     "output_type": "execute_result"
    }
   ],
   "source": [
    "\n",
    "35\t3746.5\t0.0023\t4\t3\t0.136\t0.217\t0.02625\t0.03875\t0.0035\t0.0065\t0.04575\t0.05825\t0.011\t0.021\n",
    "63\t6835\t0.003\t4\t3\t0.1315\t0.2125\t0.02175\t0.03425\t0.004\t0.007\t0.04675\t0.05925\t0.01225\t0.02225\n",
    "96\t10081.5\t0.0041\t4\t3\t0.12725\t0.20775\t0.02225\t0.03475\t0.0045\t0.0075\t0.04825\t0.06075\t0.014\t0.024\n",
    "188\t18860.5\t0.0061\t4\t3\t0.1205\t0.2015\t0.024\t0.036\t0.00525\t0.00825\t0.052\t0.064\t0.01625\t0.02625\n",
    "369\t35330\t0.00681\t4\t3\t0.11125\t0.19275\t0.0265\t0.0385\t0.007\t0.0095\t0.058\t0.07\t0.0205\t0.0305\n",
    "\n",
    "\n",
    "\n",
    "\n",
    "import pandas as pd\n",
    "from scipy import interpolate\n",
    "\n",
    "SPOT = 60\n",
    "MarketData = pd.read_csv('C:/Users/Макс/Documents/MATLAB/DataVS.csv',sep = \";\", header=None)\n",
    "MarketData.columns = [ \"Days\",\"SWAP_Points\",\"CCY1_Rates\", \"Delta_Conv\",   \n",
    "   \"ATM_Conv\",\"ATM_BID\", \"ATM_ASK\",\"25RR_BID\",\"25RR_ASK\",\"25BF_BID\", \n",
    "   \"25BF_ASK\",\"10RR_BID\",\"10RR_ASK\",\"10BF_BID\",\"10BF_ASK\"]\n",
    "\n",
    "Col = [\"T_expiry\",\"T_delivery\",\"SPOT\",\"Forward\",\"Delta_type\",\"IRate_CCY1\",\n",
    "    \"IRate_CCY2\",\"Vola_RR_25\",\"Vola_BF_25\",\"Vola_RR_10\",\"Vola_BF_10\",\n",
    "    \"Vola_ATM_Spread\",\"Vola_25RR_Spread\",\"Vola_10RR_Spread\",\n",
    "    \"Vola_Put_10\",\"Vola_Put_25\",\"Vola_ATM\",\"Vola_Call_25\",\n",
    "    \"Vola_Call_10\",\"Strike_Put_10\",\"Strike_Put_25\",\"Strike_ATM\",\n",
    "    \"Strike_Call_25\",\"Strike_Call_10\",\"Alpha\",\"Nu\",\"Rho\",\"Beta\",\"Error\",\n",
    "    \"Error_Value\",\"Iterations\",\"25BF_Check\",\"10BF_Check\"]\n",
    "Rws = list(MarketData[\"Days\"].T)\n",
    "MainDataSet = pd.DataFrame(index = Rws, columns = Col)\n",
    "\n",
    "MainDataSet[\"T_expiry\"] = list(MarketData[\"Days\"])\n",
    "MainDataSet[\"T_delivery\"] = list(MarketData[\"Days\"])\n",
    "MainDataSet[\"SPOT\"] = SPOT\n",
    "\n",
    "f_fwd = interpolate.interp1d(list(MarketData[\"Days\"]), list(MarketData[\"SWAP_Points\"]))\n",
    "f_DeltaType = interpolate.interp1d(list(MarketData[\"Days\"]), list(MarketData[\"Delta_Conv\"]))\n",
    "f_IR1 = interpolate.interp1d(list(MarketData[\"Days\"]), list(MarketData[\"CCY1_Rates\"]))\n",
    "\n",
    "f_25RR_B = interpolate.interp1d(list(MarketData[\"Days\"]), list(MarketData[\"25RR_BID\"]))\n",
    "f_25RR_A = interpolate.interp1d(list(MarketData[\"Days\"]), list(MarketData[\"25RR_ASK\"]))\n",
    "f_25BF_B = interpolate.interp1d(list(MarketData[\"Days\"]), list(MarketData[\"25BF_BID\"]))\n",
    "f_25BF_A = interpolate.interp1d(list(MarketData[\"Days\"]), list(MarketData[\"25BF_ASK\"]))\n",
    "\n",
    "f_10RR_B = interpolate.interp1d(list(MarketData[\"Days\"]), list(MarketData[\"10RR_BID\"]))\n",
    "f_10RR_A = interpolate.interp1d(list(MarketData[\"Days\"]), list(MarketData[\"10RR_ASK\"]))\n",
    "f_10BF_B = interpolate.interp1d(list(MarketData[\"Days\"]), list(MarketData[\"10BF_BID\"]))\n",
    "f_10BF_A = interpolate.interp1d(list(MarketData[\"Days\"]), list(MarketData[\"10BF_ASK\"]))\n",
    "\n",
    "f_ATM_B = interpolate.interp1d(list(MarketData[\"Days\"]), list(MarketData[\"ATM_BID\"]))\n",
    "f_ATM_A = interpolate.interp1d(list(MarketData[\"Days\"]), list(MarketData[\"ATM_ASK\"]))\n",
    "\n",
    "MainDataSet[\"Forward\"] = MainDataSet.apply(lambda row: (row[\"SPOT\"]+f_fwd(row[\"T_delivery\"])/10000)/row[\"SPOT\"], axis = 1)\n",
    "MainDataSet[\"Delta_type\"] = MainDataSet.apply(lambda row: f_DeltaType(row[\"T_delivery\"]), axis = 1)\n",
    "MainDataSet[\"IRate_CCY1\"]=MainDataSet.apply(lambda row: f_IR1(row[\"T_delivery\"]), axis = 1)\n",
    "MainDataSet[\"IRate_CCY2\"]=MainDataSet.apply(lambda row: row[\"Forward\"]*row[\"IRate_CCY1\"], axis = 1)                                           \n",
    "\n",
    "MainDataSet[\"Vola_RR_25\"] = MainDataSet.apply(lambda row: 0.5*(f_25RR_B(row[\"T_delivery\"])+f_25RR_A(row[\"T_delivery\"])), axis = 1)\n",
    "MainDataSet[\"Vola_BF_25\"] = MainDataSet.apply(lambda row: 0.5*(f_25BF_B(row[\"T_delivery\"])+f_25BF_A(row[\"T_delivery\"])), axis = 1)\n",
    "\n",
    "MainDataSet[\"Vola_RR_10\"] = MainDataSet.apply(lambda row: 0.5*(f_10RR_B(row[\"T_delivery\"])+f_10RR_A(row[\"T_delivery\"])), axis = 1)\n",
    "MainDataSet[\"Vola_BF_10\"] = MainDataSet.apply(lambda row: 0.5*(f_10BF_B(row[\"T_delivery\"])+f_10BF_A(row[\"T_delivery\"])), axis = 1)\n",
    "\n",
    "MainDataSet[\"Vola_ATM\"] = MainDataSet.apply(lambda row: 0.5*(f_ATM_B(row[\"T_delivery\"])+f_ATM_A(row[\"T_delivery\"])), axis = 1)\n",
    "\n",
    "MarketData\n",
    "#MainDataSet.T\n",
    "\n",
    "\n"
   ]
  },
  {
   "cell_type": "code",
   "execution_count": 11,
   "metadata": {},
   "outputs": [
    {
     "data": {
      "text/html": [
       "<div>\n",
       "<style scoped>\n",
       "    .dataframe tbody tr th:only-of-type {\n",
       "        vertical-align: middle;\n",
       "    }\n",
       "\n",
       "    .dataframe tbody tr th {\n",
       "        vertical-align: top;\n",
       "    }\n",
       "\n",
       "    .dataframe thead th {\n",
       "        text-align: right;\n",
       "    }\n",
       "</style>\n",
       "<table border=\"1\" class=\"dataframe\">\n",
       "  <thead>\n",
       "    <tr style=\"text-align: right;\">\n",
       "      <th></th>\n",
       "      <th>Days</th>\n",
       "      <th>SWAP_Points</th>\n",
       "      <th>CCY1_Rates</th>\n",
       "      <th>Delta_Conv</th>\n",
       "      <th>ATM_Conv</th>\n",
       "      <th>ATM_BID</th>\n",
       "      <th>ATM_ASK</th>\n",
       "      <th>25RR_BID</th>\n",
       "      <th>25RR_ASK</th>\n",
       "      <th>25BF_BID</th>\n",
       "      <th>25BF_ASK</th>\n",
       "      <th>10RR_BID</th>\n",
       "      <th>10RR_ASK</th>\n",
       "      <th>10BF_BID</th>\n",
       "      <th>10BF_ASK</th>\n",
       "    </tr>\n",
       "  </thead>\n",
       "  <tbody>\n",
       "    <tr>\n",
       "      <th>0</th>\n",
       "      <td>35</td>\n",
       "      <td>3746.5</td>\n",
       "      <td>0.00230</td>\n",
       "      <td>4</td>\n",
       "      <td>3</td>\n",
       "      <td>0.13600</td>\n",
       "      <td>0.21700</td>\n",
       "      <td>0.02625</td>\n",
       "      <td>0.03875</td>\n",
       "      <td>0.00350</td>\n",
       "      <td>0.00650</td>\n",
       "      <td>0.04575</td>\n",
       "      <td>0.05825</td>\n",
       "      <td>0.01100</td>\n",
       "      <td>0.02100</td>\n",
       "    </tr>\n",
       "    <tr>\n",
       "      <th>1</th>\n",
       "      <td>63</td>\n",
       "      <td>6835.0</td>\n",
       "      <td>0.00300</td>\n",
       "      <td>4</td>\n",
       "      <td>3</td>\n",
       "      <td>0.13150</td>\n",
       "      <td>0.21250</td>\n",
       "      <td>0.02175</td>\n",
       "      <td>0.03425</td>\n",
       "      <td>0.00400</td>\n",
       "      <td>0.00700</td>\n",
       "      <td>0.04675</td>\n",
       "      <td>0.05925</td>\n",
       "      <td>0.01225</td>\n",
       "      <td>0.02225</td>\n",
       "    </tr>\n",
       "    <tr>\n",
       "      <th>2</th>\n",
       "      <td>96</td>\n",
       "      <td>10081.5</td>\n",
       "      <td>0.00410</td>\n",
       "      <td>4</td>\n",
       "      <td>3</td>\n",
       "      <td>0.12725</td>\n",
       "      <td>0.20775</td>\n",
       "      <td>0.02225</td>\n",
       "      <td>0.03475</td>\n",
       "      <td>0.00450</td>\n",
       "      <td>0.00750</td>\n",
       "      <td>0.04825</td>\n",
       "      <td>0.06075</td>\n",
       "      <td>0.01400</td>\n",
       "      <td>0.02400</td>\n",
       "    </tr>\n",
       "    <tr>\n",
       "      <th>3</th>\n",
       "      <td>188</td>\n",
       "      <td>18860.5</td>\n",
       "      <td>0.00610</td>\n",
       "      <td>4</td>\n",
       "      <td>3</td>\n",
       "      <td>0.12050</td>\n",
       "      <td>0.20150</td>\n",
       "      <td>0.02400</td>\n",
       "      <td>0.03600</td>\n",
       "      <td>0.00525</td>\n",
       "      <td>0.00825</td>\n",
       "      <td>0.05200</td>\n",
       "      <td>0.06400</td>\n",
       "      <td>0.01625</td>\n",
       "      <td>0.02625</td>\n",
       "    </tr>\n",
       "    <tr>\n",
       "      <th>4</th>\n",
       "      <td>369</td>\n",
       "      <td>35330.0</td>\n",
       "      <td>0.00681</td>\n",
       "      <td>4</td>\n",
       "      <td>3</td>\n",
       "      <td>0.11125</td>\n",
       "      <td>0.19275</td>\n",
       "      <td>0.02650</td>\n",
       "      <td>0.03850</td>\n",
       "      <td>0.00700</td>\n",
       "      <td>0.00950</td>\n",
       "      <td>0.05800</td>\n",
       "      <td>0.07000</td>\n",
       "      <td>0.02050</td>\n",
       "      <td>0.03050</td>\n",
       "    </tr>\n",
       "  </tbody>\n",
       "</table>\n",
       "</div>"
      ],
      "text/plain": [
       "   Days  SWAP_Points  CCY1_Rates  Delta_Conv  ATM_Conv  ATM_BID  ATM_ASK  \\\n",
       "0    35       3746.5     0.00230           4         3  0.13600  0.21700   \n",
       "1    63       6835.0     0.00300           4         3  0.13150  0.21250   \n",
       "2    96      10081.5     0.00410           4         3  0.12725  0.20775   \n",
       "3   188      18860.5     0.00610           4         3  0.12050  0.20150   \n",
       "4   369      35330.0     0.00681           4         3  0.11125  0.19275   \n",
       "\n",
       "   25RR_BID  25RR_ASK  25BF_BID  25BF_ASK  10RR_BID  10RR_ASK  10BF_BID  \\\n",
       "0   0.02625   0.03875   0.00350   0.00650   0.04575   0.05825   0.01100   \n",
       "1   0.02175   0.03425   0.00400   0.00700   0.04675   0.05925   0.01225   \n",
       "2   0.02225   0.03475   0.00450   0.00750   0.04825   0.06075   0.01400   \n",
       "3   0.02400   0.03600   0.00525   0.00825   0.05200   0.06400   0.01625   \n",
       "4   0.02650   0.03850   0.00700   0.00950   0.05800   0.07000   0.02050   \n",
       "\n",
       "   10BF_ASK  \n",
       "0   0.02100  \n",
       "1   0.02225  \n",
       "2   0.02400  \n",
       "3   0.02625  \n",
       "4   0.03050  "
      ]
     },
     "execution_count": 11,
     "metadata": {},
     "output_type": "execute_result"
    }
   ],
   "source": [
    "MarketData"
   ]
  },
  {
   "cell_type": "code",
   "execution_count": null,
   "metadata": {},
   "outputs": [],
   "source": []
  }
 ],
 "metadata": {
  "kernelspec": {
   "display_name": "Python 3",
   "language": "python",
   "name": "python3"
  },
  "language_info": {
   "codemirror_mode": {
    "name": "ipython",
    "version": 3
   },
   "file_extension": ".py",
   "mimetype": "text/x-python",
   "name": "python",
   "nbconvert_exporter": "python",
   "pygments_lexer": "ipython3",
   "version": "3.7.6"
  }
 },
 "nbformat": 4,
 "nbformat_minor": 4
}
